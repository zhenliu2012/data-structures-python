{
 "cells": [
  {
   "cell_type": "code",
   "execution_count": 106,
   "metadata": {},
   "outputs": [],
   "source": [
    "from pythonds.graphs import Graph, Vertex\n",
    "from pythonds.basic import Queue"
   ]
  },
  {
   "cell_type": "code",
   "execution_count": 107,
   "metadata": {},
   "outputs": [],
   "source": [
    "def bfs(g,start):\n",
    "    start.setDistance(0)\n",
    "    start.setPred(None)\n",
    "    vertQueue = Queue()\n",
    "    vertQueue.enqueue(start)\n",
    "    while (vertQueue.size() > 0):\n",
    "        currentVert = vertQueue.dequeue()\n",
    "        for nbr in currentVert.getConnections():\n",
    "            if (nbr.getColor() == 'white'):\n",
    "                nbr.setColor('gray')\n",
    "                nbr.setDistance(currentVert.getDistance() + 1)\n",
    "                nbr.setPred(currentVert)\n",
    "                vertQueue.enqueue(nbr)\n",
    "        currentVert.setColor('black')"
   ]
  },
  {
   "cell_type": "code",
   "execution_count": 108,
   "metadata": {},
   "outputs": [],
   "source": [
    "def traverse( y ):\n",
    "    x = y\n",
    "    list_ = []\n",
    "    while( x.getPred() ):\n",
    "        list_.insert( 0, x.id )\n",
    "        x = x.getPred()\n",
    "    if len(list_) > 0:\n",
    "        list_.insert( 0, x.id )\n",
    "    else:\n",
    "        list_.insert( 0, 'no path' )\n",
    "    return ( list_ )"
   ]
  },
  {
   "cell_type": "code",
   "execution_count": 109,
   "metadata": {},
   "outputs": [],
   "source": [
    "def resetGraph( g ):\n",
    "    for v in g:\n",
    "        v.setDistance( 0 )\n",
    "        v.setPred( None )\n",
    "        v.setColor( 'white' )"
   ]
  },
  {
   "cell_type": "code",
   "execution_count": 110,
   "metadata": {},
   "outputs": [],
   "source": [
    "def allPairsShortestPath( g ):\n",
    "    for v in g:\n",
    "        resetGraph( g )\n",
    "        bfs(g, v)\n",
    "        for vert in g:\n",
    "            if vert != v:\n",
    "                print ( 'from', v.id, 'to', vert.id, ':', traverse( vert ) )\n",
    "                "
   ]
  },
  {
   "cell_type": "code",
   "execution_count": 111,
   "metadata": {},
   "outputs": [],
   "source": [
    "def escapeMaze( g, idStart, idExit ):\n",
    "    vertStart = g.getVertex( idStart )\n",
    "    vertExit = g.getVertex( idExit )\n",
    "    resetGraph( g )\n",
    "    bfs( g, vertStart )\n",
    "    print( traverse( vertExit ) )"
   ]
  },
  {
   "cell_type": "code",
   "execution_count": 112,
   "metadata": {},
   "outputs": [
    {
     "name": "stdout",
     "output_type": "stream",
     "text": [
      "['A', 'B', 'C', 'D', 'E', 'F', 'G', 'H', 'I']\n"
     ]
    }
   ],
   "source": [
    "    gg = Graph()\n",
    "    verts = 'ABCDEFGHI'\n",
    "    #verts = 'AEGDBCFHI' \n",
    "    for i in verts:\n",
    "        gg.addVertex(i)\n",
    "        \n",
    "    print( gg.getVertices() )\n",
    "    gg.addEdge('B','A')\n",
    "    gg.addEdge('A','B')\n",
    "    gg.addEdge('B','C')\n",
    "    gg.addEdge('C','F')\n",
    "    gg.addEdge('F','H')\n",
    "    gg.addEdge('H','I')\n",
    "    gg.addEdge('I','F')\n",
    "    gg.addEdge('B','E')\n",
    "    gg.addEdge('E','D')\n",
    "    gg.addEdge('D','B')\n",
    "    gg.addEdge('E','A')\n",
    "    gg.addEdge('D','G')\n",
    "    gg.addEdge('G','E')\n"
   ]
  },
  {
   "cell_type": "code",
   "execution_count": 113,
   "metadata": {},
   "outputs": [
    {
     "name": "stdout",
     "output_type": "stream",
     "text": [
      "from A to B : ['A', 'B']\n",
      "from A to C : ['A', 'B', 'C']\n",
      "from A to D : ['A', 'B', 'E', 'D']\n",
      "from A to E : ['A', 'B', 'E']\n",
      "from A to F : ['A', 'B', 'C', 'F']\n",
      "from A to G : ['A', 'B', 'E', 'D', 'G']\n",
      "from A to H : ['A', 'B', 'C', 'F', 'H']\n",
      "from A to I : ['A', 'B', 'C', 'F', 'H', 'I']\n",
      "from B to A : ['B', 'A']\n",
      "from B to C : ['B', 'C']\n",
      "from B to D : ['B', 'E', 'D']\n",
      "from B to E : ['B', 'E']\n",
      "from B to F : ['B', 'C', 'F']\n",
      "from B to G : ['B', 'E', 'D', 'G']\n",
      "from B to H : ['B', 'C', 'F', 'H']\n",
      "from B to I : ['B', 'C', 'F', 'H', 'I']\n",
      "from C to A : ['no path']\n",
      "from C to B : ['no path']\n",
      "from C to D : ['no path']\n",
      "from C to E : ['no path']\n",
      "from C to F : ['C', 'F']\n",
      "from C to G : ['no path']\n",
      "from C to H : ['C', 'F', 'H']\n",
      "from C to I : ['C', 'F', 'H', 'I']\n",
      "from D to A : ['D', 'B', 'A']\n",
      "from D to B : ['D', 'B']\n",
      "from D to C : ['D', 'B', 'C']\n",
      "from D to E : ['D', 'B', 'E']\n",
      "from D to F : ['D', 'B', 'C', 'F']\n",
      "from D to G : ['D', 'G']\n",
      "from D to H : ['D', 'B', 'C', 'F', 'H']\n",
      "from D to I : ['D', 'B', 'C', 'F', 'H', 'I']\n",
      "from E to A : ['E', 'A']\n",
      "from E to B : ['E', 'D', 'B']\n",
      "from E to C : ['E', 'D', 'B', 'C']\n",
      "from E to D : ['E', 'D']\n",
      "from E to F : ['E', 'D', 'B', 'C', 'F']\n",
      "from E to G : ['E', 'D', 'G']\n",
      "from E to H : ['E', 'D', 'B', 'C', 'F', 'H']\n",
      "from E to I : ['E', 'D', 'B', 'C', 'F', 'H', 'I']\n",
      "from F to A : ['no path']\n",
      "from F to B : ['no path']\n",
      "from F to C : ['no path']\n",
      "from F to D : ['no path']\n",
      "from F to E : ['no path']\n",
      "from F to G : ['no path']\n",
      "from F to H : ['F', 'H']\n",
      "from F to I : ['F', 'H', 'I']\n",
      "from G to A : ['G', 'E', 'A']\n",
      "from G to B : ['G', 'E', 'D', 'B']\n",
      "from G to C : ['G', 'E', 'D', 'B', 'C']\n",
      "from G to D : ['G', 'E', 'D']\n",
      "from G to E : ['G', 'E']\n",
      "from G to F : ['G', 'E', 'D', 'B', 'C', 'F']\n",
      "from G to H : ['G', 'E', 'D', 'B', 'C', 'F', 'H']\n",
      "from G to I : ['G', 'E', 'D', 'B', 'C', 'F', 'H', 'I']\n",
      "from H to A : ['no path']\n",
      "from H to B : ['no path']\n",
      "from H to C : ['no path']\n",
      "from H to D : ['no path']\n",
      "from H to E : ['no path']\n",
      "from H to F : ['H', 'I', 'F']\n",
      "from H to G : ['no path']\n",
      "from H to I : ['H', 'I']\n",
      "from I to A : ['no path']\n",
      "from I to B : ['no path']\n",
      "from I to C : ['no path']\n",
      "from I to D : ['no path']\n",
      "from I to E : ['no path']\n",
      "from I to F : ['I', 'F']\n",
      "from I to G : ['no path']\n",
      "from I to H : ['I', 'F', 'H']\n"
     ]
    }
   ],
   "source": [
    "allPairsShortestPath( gg )"
   ]
  },
  {
   "cell_type": "code",
   "execution_count": 114,
   "metadata": {},
   "outputs": [
    {
     "name": "stdout",
     "output_type": "stream",
     "text": [
      "['D', 'B', 'A']\n"
     ]
    }
   ],
   "source": [
    "escapeMaze( gg, 'D', 'A' )"
   ]
  }
 ],
 "metadata": {
  "kernelspec": {
   "display_name": "Python 3",
   "language": "python",
   "name": "python3"
  },
  "language_info": {
   "codemirror_mode": {
    "name": "ipython",
    "version": 3
   },
   "file_extension": ".py",
   "mimetype": "text/x-python",
   "name": "python",
   "nbconvert_exporter": "python",
   "pygments_lexer": "ipython3",
   "version": "3.6.2"
  }
 },
 "nbformat": 4,
 "nbformat_minor": 2
}
