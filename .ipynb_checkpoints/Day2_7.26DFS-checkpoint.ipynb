{
 "cells": [
  {
   "cell_type": "code",
   "execution_count": 141,
   "metadata": {},
   "outputs": [],
   "source": [
    "from pythonds.graphs import Graph, Vertex\n",
    "\n",
    "class DFSGraph(Graph):\n",
    "    def __init__(self):\n",
    "        super().__init__()\n",
    "        self.time = 0\n",
    "\n",
    "    def dfs(self):\n",
    "        for aVertex in self:\n",
    "            aVertex.setColor('white')\n",
    "            aVertex.setPred(-1)            \n",
    "        for aVertex in self:\n",
    "            if aVertex.getColor() == 'white':\n",
    "                self.dfsvisit(aVertex)\n",
    "                print(aVertex.id, aVertex.fin)\n",
    "\n",
    "    def dfsvisit(self,startVertex):\n",
    "        startVertex.setColor('gray')\n",
    "        self.time += 1\n",
    "        startVertex.setDiscovery(self.time)\n",
    "        for nextVertex in startVertex.getConnections():\n",
    "            if nextVertex.getColor() == 'white':\n",
    "                nextVertex.setPred(startVertex)\n",
    "                self.dfsvisit(nextVertex)\n",
    "        startVertex.setColor('black')\n",
    "        self.time += 1\n",
    "        startVertex.setFinish(self.time)\n",
    "\n",
    "    def dfs_topoSort(self):\n",
    "        for aVertex in self:\n",
    "            aVertex.setColor('white')\n",
    "            aVertex.setPred(-1)\n",
    "        for aVertex in self:\n",
    "            if aVertex.getColor() == 'white':\n",
    "                self.dfsvisit(aVertex)\n",
    "        finList = []\n",
    "        for aVertex in self:\n",
    "            finList.append( aVertex )\n",
    "        for v in (sorted(finList, key = lambda x: x.fin , reverse = True)): \n",
    "            print( v.id, v.disc, v.fin )"
   ]
  },
  {
   "cell_type": "code",
   "execution_count": 142,
   "metadata": {},
   "outputs": [
    {
     "name": "stdout",
     "output_type": "stream",
     "text": [
      "oil 17 18\n",
      "egg 15 16\n",
      "griddle 13 14\n",
      "milk 1 12\n",
      "mix 2 11\n",
      "syrup 9 10\n",
      "pour 3 8\n",
      "turn 4 7\n",
      "eat 5 6\n"
     ]
    }
   ],
   "source": [
    "g = DFSGraph()\n",
    "pancake = ['milk','griddle','egg','oil','mix','pour','turn','eat','syrup']\n",
    "for i in pancake:\n",
    "    g.addVertex(i)\n",
    "    \n",
    "g.addEdge('milk','mix')\n",
    "g.addEdge('egg','mix')\n",
    "g.addEdge('oil','mix')\n",
    "g.addEdge('mix','pour')\n",
    "g.addEdge('griddle','pour')\n",
    "g.addEdge('pour','turn')\n",
    "g.addEdge('turn','eat')\n",
    "g.addEdge('mix','syrup')\n",
    "g.addEdge('syrup','eat')\n",
    "g.getVertices()\n",
    "g.dfs_topoSort()\n"
   ]
  },
  {
   "cell_type": "code",
   "execution_count": 144,
   "metadata": {},
   "outputs": [],
   "source": [
    "def transposeGraph( g ):\n",
    "    #create a graph w/o edges\n",
    "    g_ = Graph()\n",
    "    for i in g.getVertices():\n",
    "        g_addVertex(i);\n",
    "    #for each edge in original graph, add reversed edge to the new graph    \n",
    "    for v in g:\n",
    "        for w in v.getConnections:\n",
    "            cost = v.getWeight(w)\n",
    "            g_.vertList[w.id].addNeighbor( g_vertList[v.id], cost = cost )\n",
    "            \n",
    "    return g"
   ]
  },
  {
   "cell_type": "code",
   "execution_count": null,
   "metadata": {},
   "outputs": [],
   "source": []
  }
 ],
 "metadata": {
  "kernelspec": {
   "display_name": "Python 3",
   "language": "python",
   "name": "python3"
  },
  "language_info": {
   "codemirror_mode": {
    "name": "ipython",
    "version": 3
   },
   "file_extension": ".py",
   "mimetype": "text/x-python",
   "name": "python",
   "nbconvert_exporter": "python",
   "pygments_lexer": "ipython3",
   "version": "3.6.2"
  }
 },
 "nbformat": 4,
 "nbformat_minor": 2
}
