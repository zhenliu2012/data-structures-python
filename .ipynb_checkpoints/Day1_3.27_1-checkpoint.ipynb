{
 "cells": [
  {
   "cell_type": "code",
   "execution_count": 23,
   "metadata": {
    "collapsed": true
   },
   "outputs": [],
   "source": [
    "from pythonds.basic.stack import Stack"
   ]
  },
  {
   "cell_type": "code",
   "execution_count": 1,
   "metadata": {},
   "outputs": [
    {
     "name": "stdout",
     "output_type": "stream",
     "text": [
      "expression check: error A (\n"
     ]
    },
    {
     "data": {
      "text/plain": [
       "False"
      ]
     },
     "execution_count": 1,
     "metadata": {},
     "output_type": "execute_result"
    }
   ],
   "source": [
    "def infix_expr_check( expr ):\n",
    "    charTokens = \"ABCDEFGHIJKLMNOPQRSTUVWXYZ\"\n",
    "    numTokens = \"1234567890\"\n",
    "    opTokens = \"*/+-\"\n",
    "    parenTokens = \"()\"\n",
    "    notbeginTokens = \"*/+-)\"\n",
    "    notendTokens = \"*/+-(\"\n",
    "    expr = expr.strip()\n",
    "    toklist = expr.split()\n",
    "    if toklist[0] in notbeginTokens:\n",
    "        print( \"expression check: error.\", \"expression begins with \",toklist[0])\n",
    "        return False;\n",
    "    if toklist[-1] in notendTokens:\n",
    "        print( \"expression check: error.\", \"expression ends with \",toklist[-1])\n",
    "        return False;\n",
    "    for i in range( len(toklist) - 1 ):\n",
    "        token = toklist[i]\n",
    "        token_n = toklist[i+1]\n",
    "        if token in charTokens or token.isdigit():\n",
    "            if token_n == \"(\" or token_n in charTokens or token_n.isdigit():\n",
    "                print( \"expression check: error\", token, token_n )\n",
    "                return False;\n",
    "            else:\n",
    "                continue\n",
    "        elif token in opTokens:\n",
    "            if token_n == \")\":\n",
    "                print( \"expression check: error\", token, token_n )\n",
    "                return False;\n",
    "            else:\n",
    "                continue\n",
    "        elif token == \"(\":\n",
    "            if token_n in parenTokens or token_n in opTokens:\n",
    "                print( \"expression check: error\", token, token_n )\n",
    "                return False;\n",
    "            else:\n",
    "                continue\n",
    "        elif token == \")\":\n",
    "            if token_n in charTokens or token_n.isdigit() or token_n in parenTokens :\n",
    "                print( \"expression check: error\", token, token_n )\n",
    "                return False;\n",
    "            else:\n",
    "                continue            \n",
    "        \n",
    "    return True\n",
    "expr_check(\"A ( ) B + C \")"
   ]
  },
  {
   "cell_type": "code",
   "execution_count": 12,
   "metadata": {},
   "outputs": [
    {
     "name": "stdout",
     "output_type": "stream",
     "text": [
      "illegal token: C1 enter infix expression with spaces\n"
     ]
    },
    {
     "data": {
      "text/plain": [
       "False"
      ]
     },
     "execution_count": 12,
     "metadata": {},
     "output_type": "execute_result"
    }
   ],
   "source": [
    "def token_check( expr ):\n",
    "    legalTokens = \"ABCDEFGHIJKLMNOPQRSTUVWXYZ*/+-()\"\n",
    "    expr = expr.strip()\n",
    "    toklist = expr.split()\n",
    "    for token in toklist:\n",
    "        if token not in legalTokens:\n",
    "            print(\"illegal token:\", token, \"enter infix expression with spaces\")\n",
    "            return False;\n",
    "    return True\n",
    "token_check( \"A ( ) B + C1 D \")"
   ]
  },
  {
   "cell_type": "code",
   "execution_count": 9,
   "metadata": {},
   "outputs": [
    {
     "name": "stdout",
     "output_type": "stream",
     "text": [
      "error: parentheses not balanced\n"
     ]
    },
    {
     "data": {
      "text/plain": [
       "False"
      ]
     },
     "execution_count": 9,
     "metadata": {},
     "output_type": "execute_result"
    }
   ],
   "source": [
    "#from pythonds.basic.stack import Stack\n",
    "\n",
    "def parChecker(symbolString):\n",
    "    s = Stack()\n",
    "    balanced = True\n",
    "    index = 0\n",
    "    while index < len(symbolString) and balanced:\n",
    "        symbol = symbolString[index]\n",
    "        if symbol == \"(\":\n",
    "            s.push(symbol)\n",
    "        else:\n",
    "            if s.isEmpty():\n",
    "                balanced = False\n",
    "            else:\n",
    "                s.pop()\n",
    "\n",
    "        index = index + 1\n",
    "\n",
    "    if balanced and s.isEmpty():\n",
    "        return True\n",
    "    else:\n",
    "        return False\n",
    "\n",
    "def paren_check( expr ):\n",
    "    parenList = []\n",
    "    for p in expr:\n",
    "        if p == '(' or p == ')':\n",
    "            parenList.append( p )\n",
    "    parenExpr = ''.join(parenList)\n",
    "    if not parChecker(parenExpr):\n",
    "        print( \"error: parentheses not balanced\")\n",
    "        return False\n",
    "    else:\n",
    "        return True;\n",
    "\n",
    "paren_check(\"A ( ) B + C ) 1 D\")"
   ]
  },
  {
   "cell_type": "code",
   "execution_count": 4,
   "metadata": {
    "scrolled": false
   },
   "outputs": [
    {
     "name": "stdout",
     "output_type": "stream",
     "text": [
      "A B * C D * +\n",
      "A B + C * D E - F G + * -\n",
      "A B C +\n"
     ]
    }
   ],
   "source": [
    "#from pythonds.basic.stack import Stack\n",
    "\n",
    "def infixToPostfix(infixexpr):\n",
    "    prec = {}\n",
    "    prec[\"*\"] = 3\n",
    "    prec[\"/\"] = 3\n",
    "    prec[\"+\"] = 2\n",
    "    prec[\"-\"] = 2\n",
    "    prec[\"(\"] = 1\n",
    "    opStack = Stack()\n",
    "    postfixList = []\n",
    "    tokenList = infixexpr.split()\n",
    "\n",
    "    for token in tokenList:\n",
    "        if token in \"ABCDEFGHIJKLMNOPQRSTUVWXYZ\" or token in \"0123456789\":\n",
    "            postfixList.append(token)\n",
    "        elif token == '(':\n",
    "            opStack.push(token)\n",
    "        elif token == ')':\n",
    "            topToken = opStack.pop()\n",
    "            while topToken != '(':\n",
    "                postfixList.append(topToken)\n",
    "                topToken = opStack.pop()\n",
    "        else:\n",
    "            while (not opStack.isEmpty()) and \\\n",
    "               (prec[opStack.peek()] >= prec[token]):\n",
    "                 postfixList.append(opStack.pop())\n",
    "            opStack.push(token)\n",
    "\n",
    "    while not opStack.isEmpty():\n",
    "        postfixList.append(opStack.pop())\n",
    "    return \" \".join(postfixList)\n",
    "\n",
    "print(infixToPostfix(\"A * B + C * D\"))\n",
    "print(infixToPostfix(\"( A + B ) * C - ( D - E ) * ( F + G )\"))\n",
    "print(infixToPostfix( \"A ( ) B + C\" ))"
   ]
  },
  {
   "cell_type": "code",
   "execution_count": 13,
   "metadata": {},
   "outputs": [
    {
     "name": "stdout",
     "output_type": "stream",
     "text": [
      "A B + C * D E - F G + * -\n",
      "expression check: error A (\n"
     ]
    }
   ],
   "source": [
    "def infix_to_postfix( expr ):\n",
    "    if token_check( expr ) and paren_check( expr ) and infix_expr_check( expr ):\n",
    "        print( infixToPostfix( expr ) )\n",
    "    return\n",
    "\n",
    "infix_to_postfix( \"( A + B ) * C - ( D - E ) * ( F + G )\" )\n",
    "infix_to_postfix( \" A ( ) B + C\" )"
   ]
  },
  {
   "cell_type": "code",
   "execution_count": 22,
   "metadata": {},
   "outputs": [
    {
     "name": "stdout",
     "output_type": "stream",
     "text": [
      "error: operand(s) needed, check postfix expression\n",
      "None\n",
      "2.8\n",
      "error: extra operand(s), check postfix expression\n",
      "None\n"
     ]
    }
   ],
   "source": [
    "#from pythonds.basic.stack import Stack\n",
    "\n",
    "def postfixEval(postfixExpr):\n",
    "    operandStack = Stack()\n",
    "    postfixExpr = postfixExpr.strip()\n",
    "    tokenList = postfixExpr.split()\n",
    "\n",
    "    for token in tokenList:\n",
    "        if token.isdigit():\n",
    "            operandStack.push(int(token))\n",
    "        else:\n",
    "            if operandStack.size() < 2:\n",
    "                print( \"error: operand(s) needed, check postfix expression\")\n",
    "                return None\n",
    "            operand2 = operandStack.pop()\n",
    "            operand1 = operandStack.pop()\n",
    "            result = doMath(token,operand1,operand2)\n",
    "            if result is None:\n",
    "                return None\n",
    "            operandStack.push(result)\n",
    "    if operandStack.size() > 1:\n",
    "        print( \"error: extra operand(s), check postfix expression\")\n",
    "        return None\n",
    "    return operandStack.pop()\n",
    "\n",
    "def doMath(op, op1, op2):\n",
    "    if op == \"*\":\n",
    "        return op1 * op2\n",
    "    elif op == \"/\":\n",
    "        if op2 == 0:\n",
    "            print(\"error: divide by zero\")\n",
    "            return None\n",
    "        else:\n",
    "            return op1 / op2\n",
    "    elif op == \"+\":\n",
    "        return op1 + op2\n",
    "    else:\n",
    "        return op1 - op2\n",
    "print(postfixEval(' 7 + 3 2 + /'))\n",
    "print(postfixEval('7 7 + 3 2 + /'))\n",
    "print(postfixEval('7 7 7 + 3 2 + /'))"
   ]
  }
 ],
 "metadata": {
  "kernelspec": {
   "display_name": "Python 3",
   "language": "python",
   "name": "python3"
  },
  "language_info": {
   "codemirror_mode": {
    "name": "ipython",
    "version": 3
   },
   "file_extension": ".py",
   "mimetype": "text/x-python",
   "name": "python",
   "nbconvert_exporter": "python",
   "pygments_lexer": "ipython3",
   "version": "3.6.2"
  }
 },
 "nbformat": 4,
 "nbformat_minor": 2
}
