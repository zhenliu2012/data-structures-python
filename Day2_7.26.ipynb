{
 "cells": [
  {
   "cell_type": "code",
   "execution_count": 1,
   "metadata": {},
   "outputs": [],
   "source": [
    "from pythonds.graphs import Graph, Vertex\n",
    "\n",
    "class DFSGraph(Graph):\n",
    "    def __init__(self):\n",
    "        super().__init__()\n",
    "        self.time = 0\n",
    "\n",
    "    def dfs(self, print_=0):\n",
    "        for aVertex in self:\n",
    "            aVertex.setColor('white')\n",
    "            aVertex.setPred(-1)            \n",
    "        for aVertex in self:\n",
    "            if aVertex.getColor() == 'white':\n",
    "                self.dfsvisit(aVertex, print_)\n",
    "\n",
    "    def dfsvisit(self,startVertex,print_=0):\n",
    "        startVertex.setColor('gray')\n",
    "        self.time += 1\n",
    "        startVertex.setDiscovery(self.time)\n",
    "        for nextVertex in startVertex.getConnections():\n",
    "            if nextVertex.getColor() == 'white':\n",
    "                nextVertex.setPred(startVertex)\n",
    "                self.dfsvisit(nextVertex, print_)\n",
    "        startVertex.setColor('black')\n",
    "        self.time += 1\n",
    "        startVertex.setFinish(self.time)\n",
    "        if print_ != 0:\n",
    "            print(startVertex.id, startVertex.disc, startVertex.fin)\n",
    "        \n",
    "    def dfs_topoSort(self):\n",
    "        for aVertex in self:\n",
    "            aVertex.setColor('white')\n",
    "            aVertex.setPred(-1)\n",
    "        for aVertex in self:\n",
    "            if aVertex.getColor() == 'white':\n",
    "                self.dfsvisit(aVertex)\n",
    "        finList = []\n",
    "        for aVertex in self:\n",
    "            finList.append( aVertex )\n",
    "        for v in (sorted(finList, key = lambda x: x.fin , reverse = True)): \n",
    "            print( v.id, v.disc, v.fin )"
   ]
  },
  {
   "cell_type": "code",
   "execution_count": 9,
   "metadata": {},
   "outputs": [
    {
     "name": "stdout",
     "output_type": "stream",
     "text": [
      "['milk', 'griddle', 'egg', 'oil', 'mix', 'pour', 'turn', 'eat', 'syrup']\n",
      "oil 17 18\n",
      "egg 15 16\n",
      "griddle 13 14\n",
      "milk 1 12\n",
      "mix 2 11\n",
      "syrup 9 10\n",
      "pour 3 8\n",
      "turn 4 7\n",
      "eat 5 6\n"
     ]
    }
   ],
   "source": [
    "g = DFSGraph()\n",
    "pancake = ['milk','griddle','egg','oil','mix','pour','turn','eat','syrup']\n",
    "for i in pancake:\n",
    "    g.addVertex(i)\n",
    "    \n",
    "g.addEdge('milk','mix')\n",
    "g.addEdge('egg','mix')\n",
    "g.addEdge('oil','mix')\n",
    "g.addEdge('mix','pour')\n",
    "g.addEdge('griddle','pour')\n",
    "g.addEdge('pour','turn')\n",
    "g.addEdge('turn','eat')\n",
    "g.addEdge('mix','syrup')\n",
    "g.addEdge('syrup','eat')\n",
    "\n",
    "print ( g.getVertices() )\n",
    "g.dfs_topoSort()\n"
   ]
  },
  {
   "cell_type": "code",
   "execution_count": 3,
   "metadata": {},
   "outputs": [
    {
     "name": "stdout",
     "output_type": "stream",
     "text": [
      "milk mix\n",
      "griddle pour\n",
      "egg mix\n",
      "oil mix\n",
      "mix pour\n",
      "mix syrup\n",
      "pour turn\n",
      "turn eat\n",
      "syrup eat\n"
     ]
    }
   ],
   "source": [
    "for v in g:\n",
    "    for w in v.getConnections():\n",
    "        print( v.id, w.id )"
   ]
  },
  {
   "cell_type": "code",
   "execution_count": 4,
   "metadata": {},
   "outputs": [],
   "source": [
    "def transposeGraph( g ):\n",
    "    #create a new graph w/o edges\n",
    "    g_ = DFSGraph()\n",
    "    for i in g.getVertices():\n",
    "        g_.addVertex(i);\n",
    "    #for each edge in original graph, add reversed edge to the new graph    \n",
    "    for v in g:\n",
    "        for w in v.getConnections():\n",
    "            g_.vertices[w.id].addNeighbor( g_.vertices[v.id], weight =  v.getWeight(w) )            \n",
    "    return g_"
   ]
  },
  {
   "cell_type": "code",
   "execution_count": 5,
   "metadata": {
    "scrolled": false
   },
   "outputs": [
    {
     "name": "stdout",
     "output_type": "stream",
     "text": [
      "mix milk\n",
      "mix egg\n",
      "mix oil\n",
      "pour griddle\n",
      "pour mix\n",
      "turn pour\n",
      "eat turn\n",
      "eat syrup\n",
      "syrup mix\n"
     ]
    }
   ],
   "source": [
    "#test\n",
    "g_T = transposeGraph( g )\n",
    "for v in g_T:\n",
    "    for w in v.getConnections():\n",
    "        print( v.id, w.id )"
   ]
  },
  {
   "cell_type": "code",
   "execution_count": 6,
   "metadata": {},
   "outputs": [],
   "source": [
    "def getSCC( g ):\n",
    "    #call dfs to compute finish time\n",
    "    g.dfs(print_ = 1)\n",
    "    \n",
    "    #compute g-transpose gT\n",
    "    g_T = transposeGraph( g )\n",
    "    \n",
    "    #call dfs for gT\n",
    "    for aVertex in g_T:\n",
    "        aVertex.setColor('white')\n",
    "        aVertex.setPred(-1)\n",
    "    l = sorted(g, key = lambda x: x.fin, reverse = True)\n",
    "    for v in l:\n",
    "        aVertex = g_T.vertices[v.id]\n",
    "        if aVertex.getColor() == 'white':\n",
    "            print( \"SCC in tree:\")\n",
    "            g_T.dfsvisit(aVertex, 1)            \n",
    "            "
   ]
  },
  {
   "cell_type": "code",
   "execution_count": 7,
   "metadata": {},
   "outputs": [
    {
     "name": "stdout",
     "output_type": "stream",
     "text": [
      "['A', 'B', 'C', 'D', 'E', 'F', 'G', 'H', 'I']\n",
      "A B\n",
      "B C\n",
      "B E\n",
      "C F\n",
      "D B\n",
      "D G\n",
      "E D\n",
      "E A\n",
      "F H\n",
      "G E\n",
      "H I\n",
      "I F\n"
     ]
    }
   ],
   "source": [
    "#test\n",
    "gg = DFSGraph()\n",
    "verts = 'ABCDEFGHI'\n",
    "for i in verts:\n",
    "    gg.addVertex(i)\n",
    "print( gg.getVertices() )\n",
    "\n",
    "gg.addEdge('A','B')\n",
    "gg.addEdge('B','C')\n",
    "gg.addEdge('C','F')\n",
    "gg.addEdge('F','H')\n",
    "gg.addEdge('H','I')\n",
    "gg.addEdge('I','F')\n",
    "gg.addEdge('B','E')\n",
    "gg.addEdge('E','D')\n",
    "gg.addEdge('D','B')\n",
    "gg.addEdge('E','A')\n",
    "gg.addEdge('D','G')\n",
    "gg.addEdge('G','E')\n",
    "\n",
    "for v in gg:\n",
    "    for w in v.getConnections():\n",
    "        print( v.id, w.id )"
   ]
  },
  {
   "cell_type": "code",
   "execution_count": 8,
   "metadata": {},
   "outputs": [
    {
     "name": "stdout",
     "output_type": "stream",
     "text": [
      "I 6 7\n",
      "H 5 8\n",
      "F 4 9\n",
      "C 3 10\n",
      "G 13 14\n",
      "D 12 15\n",
      "E 11 16\n",
      "B 2 17\n",
      "A 1 18\n",
      "SCC in tree:\n",
      "D 4 5\n",
      "B 3 6\n",
      "G 7 8\n",
      "E 2 9\n",
      "A 1 10\n",
      "SCC in tree:\n",
      "C 11 12\n",
      "SCC in tree:\n",
      "H 15 16\n",
      "I 14 17\n",
      "F 13 18\n"
     ]
    }
   ],
   "source": [
    "getSCC(gg)"
   ]
  }
 ],
 "metadata": {
  "kernelspec": {
   "display_name": "Python 3",
   "language": "python",
   "name": "python3"
  },
  "language_info": {
   "codemirror_mode": {
    "name": "ipython",
    "version": 3
   },
   "file_extension": ".py",
   "mimetype": "text/x-python",
   "name": "python",
   "nbconvert_exporter": "python",
   "pygments_lexer": "ipython3",
   "version": "3.6.2"
  }
 },
 "nbformat": 4,
 "nbformat_minor": 2
}
