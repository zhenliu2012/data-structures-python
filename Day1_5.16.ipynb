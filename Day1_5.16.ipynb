{
 "cells": [
  {
   "cell_type": "code",
   "execution_count": 30,
   "metadata": {},
   "outputs": [],
   "source": [
    "def sequentialSearch(alist, item):\n",
    "    pos = 0\n",
    "    found = False\n",
    "\n",
    "    while pos < len(alist) and not found:\n",
    "        if alist[pos] == item:\n",
    "            found = True\n",
    "        else:\n",
    "            pos = pos+1\n",
    "\n",
    "    return found"
   ]
  },
  {
   "cell_type": "code",
   "execution_count": 52,
   "metadata": {},
   "outputs": [],
   "source": [
    "def binarySearch_recur(alist, item):\n",
    "    if len(alist) == 0:\n",
    "        return False\n",
    "    else:\n",
    "        midpoint = len(alist) // 2\n",
    "        if alist[midpoint]==item:\n",
    "            return True\n",
    "        else:\n",
    "            if item<alist[midpoint]:\n",
    "                return binarySearch_recur(alist[:midpoint],item)\n",
    "            else:\n",
    "                return binarySearch_recur(alist[midpoint+1:],item)"
   ]
  },
  {
   "cell_type": "code",
   "execution_count": 32,
   "metadata": {},
   "outputs": [],
   "source": [
    "def binarySearch_iter(alist, item):\n",
    "    first = 0\n",
    "    last = len(alist)-1\n",
    "    found = False\n",
    "\n",
    "    while first<=last and not found:\n",
    "        midpoint = (first + last)//2\n",
    "        if alist[midpoint] == item:\n",
    "            found = True\n",
    "        else:\n",
    "            if item < alist[midpoint]:\n",
    "                last = midpoint-1\n",
    "            else:\n",
    "                first = midpoint+1\n",
    "\n",
    "    return found"
   ]
  },
  {
   "cell_type": "code",
   "execution_count": 42,
   "metadata": {},
   "outputs": [
    {
     "name": "stdout",
     "output_type": "stream",
     "text": [
      "min search time for sequential search: 0.11572862157117925\n",
      "min search time for binary search: 0.005320815049344674\n"
     ]
    }
   ],
   "source": [
    "import timeit\n",
    "setup = '''\n",
    "import random\n",
    "testlist = sorted( random.sample(range(10000), 1000) )\n",
    "\n",
    "def sequentialSearch(alist, item):\n",
    "    pos = 0\n",
    "    found = False\n",
    "\n",
    "    while pos < len(alist) and not found:\n",
    "        if alist[pos] == item:\n",
    "            found = True\n",
    "        else:\n",
    "            pos = pos+1\n",
    "\n",
    "    return found\n",
    "    \n",
    "def binarySearch(alist, item):\n",
    "    if len(alist) == 0:\n",
    "        return False\n",
    "    else:\n",
    "        midpoint = len(alist) // 2\n",
    "        if alist[midpoint]==item:\n",
    "            return True\n",
    "        else:\n",
    "            if item<alist[midpoint]:\n",
    "                return binarySearch(alist[:midpoint],item)\n",
    "            else:\n",
    "                return binarySearch(alist[midpoint+1:],item)    \n",
    "'''\n",
    "print ( \"min search time for sequential search:\", min(timeit.Timer('sequentialSearch(testlist, 3)', setup=setup).repeat(7, 1000)) )\n",
    "print ( \"min search time for binary search:\", min(timeit.Timer('binarySearch(testlist, 3)', setup=setup).repeat(7, 1000)) )"
   ]
  },
  {
   "cell_type": "code",
   "execution_count": 43,
   "metadata": {},
   "outputs": [
    {
     "name": "stdout",
     "output_type": "stream",
     "text": [
      "sample size: 1000\n",
      "sequential search run time: 0.0001280000178667251\n",
      "binary search run time: 1.3796408893540502e-05\n",
      "sample size: 2000\n",
      "sequential search run time: 0.0002534451414248906\n",
      "binary search run time: 1.7884234694065526e-05\n",
      "sample size: 3000\n",
      "sequential search run time: 4.0878221625462174e-06\n",
      "binary search run time: 2.3249504010891542e-05\n",
      "sample size: 4000\n",
      "sequential search run time: 0.0005066347985120956\n",
      "binary search run time: 3.4491022233851254e-05\n",
      "sample size: 5000\n",
      "sequential search run time: 0.0006389781265170313\n",
      "binary search run time: 2.7337329811416566e-05\n",
      "sample size: 6000\n",
      "sequential search run time: 2.2994026949163526e-06\n",
      "binary search run time: 2.6059882657136768e-05\n",
      "sample size: 7000\n",
      "sequential search run time: 2.2994026949163526e-06\n",
      "binary search run time: 2.8870261303381994e-05\n",
      "sample size: 8000\n",
      "sequential search run time: 0.0010150580128538422\n",
      "binary search run time: 3.3724558306857944e-05\n",
      "sample size: 9000\n",
      "sequential search run time: 0.0011305390653433278\n",
      "binary search run time: 6.387226312654093e-05\n",
      "sample size: 10000\n",
      "sequential search run time: 3.832337824860588e-06\n",
      "binary search run time: 3.908982398570515e-05\n"
     ]
    }
   ],
   "source": [
    "#excercise1\n",
    "import timeit\n",
    "for i in range(1, 11):\n",
    "    size = i * 1000\n",
    "    print( \"sample size:\", size )\n",
    "    testlist = sorted( random.sample(range(10000), size ) )\n",
    "    \n",
    "    start_time = timeit.default_timer()\n",
    "    sequentialSearch(testlist, 10)\n",
    "    print( \"sequential search run time:\", timeit.default_timer() - start_time)\n",
    "\n",
    "    start_time = timeit.default_timer()\n",
    "    binarySearch_recur(testlist, 10)\n",
    "    print( \"binary search run time:\", timeit.default_timer() - start_time)"
   ]
  },
  {
   "cell_type": "code",
   "execution_count": 53,
   "metadata": {
    "scrolled": true
   },
   "outputs": [
    {
     "name": "stdout",
     "output_type": "stream",
     "text": [
      "sample size: 1000\n",
      "iterative search run time: 3.576846211217344e-06\n",
      "recursive search run time: 1.0219562682323158e-05\n",
      "sample size: 2000\n",
      "iterative search run time: 8.686627552378923e-06\n",
      "recursive search run time: 2.146108090528287e-05\n",
      "sample size: 3000\n",
      "iterative search run time: 4.598805389832705e-06\n",
      "recursive search run time: 2.197206049459055e-05\n",
      "sample size: 4000\n",
      "iterative search run time: 3.321358235552907e-06\n",
      "recursive search run time: 2.0439125364646316e-05\n",
      "sample size: 5000\n",
      "iterative search run time: 3.576846211217344e-06\n",
      "recursive search run time: 2.273852442158386e-05\n",
      "sample size: 6000\n",
      "iterative search run time: 5.6207572924904525e-06\n",
      "recursive search run time: 2.8614773327717558e-05\n",
      "sample size: 7000\n",
      "iterative search run time: 6.898204446770251e-06\n",
      "recursive search run time: 4.7520967200398445e-05\n",
      "sample size: 8000\n",
      "iterative search run time: 5.365269316826016e-06\n",
      "recursive search run time: 3.6279445339459926e-05\n",
      "sample size: 9000\n",
      "iterative search run time: 4.598801751853898e-06\n",
      "recursive search run time: 3.80678684450686e-05\n",
      "sample size: 10000\n",
      "iterative search run time: 4.343313776189461e-06\n",
      "recursive search run time: 3.781238046940416e-05\n"
     ]
    }
   ],
   "source": [
    "#excercise2\n",
    "import timeit\n",
    "for i in range(1, 11):\n",
    "    size = i * 1000\n",
    "    print( \"sample size:\", size )\n",
    "    testlist = sorted( random.sample(range(10000), size ) )\n",
    "    \n",
    "    start_time = timeit.default_timer()\n",
    "    binarySearch_iter(testlist, 10)\n",
    "    print( \"iterative search run time:\", timeit.default_timer() - start_time)\n",
    "\n",
    "    start_time = timeit.default_timer()\n",
    "    binarySearch_recur(testlist, 10)\n",
    "    print( \"recursive search run time:\", timeit.default_timer() - start_time)\n",
    "# note: iter is faster than recur because a) recur uses the slice operator to create the left half of the list, b) recur requires the allocation of a new stack frame in python."
   ]
  },
  {
   "cell_type": "code",
   "execution_count": 59,
   "metadata": {},
   "outputs": [],
   "source": [
    "#excercise3\n",
    "def binarySearch_recur_improved(idx_start, idx_end, alist, item):\n",
    "    if idx_start > idx_end:\n",
    "        return False\n",
    "    else:\n",
    "        idx_midpoint = ( idx_end + idx_start ) // 2 \n",
    "        if alist[idx_midpoint] == item:\n",
    "            return True\n",
    "        else:\n",
    "            if item<alist[idx_midpoint]:\n",
    "                return binarySearch_recur_improved(idx_start, idx_midpoint - 1, alist, item)\n",
    "            else:\n",
    "                return binarySearch_recur_improved(idx_midpoint + 1, idx_end, alist, item)"
   ]
  },
  {
   "cell_type": "code",
   "execution_count": 63,
   "metadata": {},
   "outputs": [
    {
     "name": "stdout",
     "output_type": "stream",
     "text": [
      "sample size: 1000\n",
      "iterative search run time: 3.576846211217344e-06\n",
      "recursive search run time: 4.598801751853898e-06\n",
      "sample size: 2000\n",
      "iterative search run time: 5.876245268154889e-06\n",
      "recursive search run time: 5.8762489061336964e-06\n",
      "sample size: 3000\n",
      "iterative search run time: 4.854293365497142e-06\n",
      "recursive search run time: 5.62076093046926e-06\n",
      "sample size: 4000\n",
      "iterative search run time: 5.365269316826016e-06\n",
      "recursive search run time: 5.109781341161579e-06\n",
      "sample size: 5000\n",
      "iterative search run time: 4.343313776189461e-06\n",
      "recursive search run time: 4.598801751853898e-06\n",
      "sample size: 6000\n",
      "iterative search run time: 3.321358235552907e-06\n",
      "recursive search run time: 4.343313776189461e-06\n",
      "sample size: 7000\n",
      "iterative search run time: 5.6207572924904525e-06\n",
      "recursive search run time: 5.8762489061336964e-06\n",
      "sample size: 8000\n",
      "iterative search run time: 6.642712833127007e-06\n",
      "recursive search run time: 6.131736881798133e-06\n",
      "sample size: 9000\n",
      "iterative search run time: 5.109781341161579e-06\n",
      "recursive search run time: 5.365269316826016e-06\n",
      "sample size: 10000\n",
      "iterative search run time: 4.854293365497142e-06\n",
      "recursive search run time: 5.109781341161579e-06\n"
     ]
    }
   ],
   "source": [
    "import timeit\n",
    "for i in range(1, 11):\n",
    "    size = i * 1000\n",
    "    print( \"sample size:\", size )\n",
    "    testlist = sorted( random.sample(range(10000), size ) )\n",
    "    \n",
    "    start_time = timeit.default_timer()\n",
    "    binarySearch_iter(testlist, 10)\n",
    "    print( \"iterative search run time:\", timeit.default_timer() - start_time)\n",
    "\n",
    "    start_time = timeit.default_timer()\n",
    "    binarySearch_recur_improved(0, size -1, testlist, 10)\n",
    "    print( \"recursive search run time:\", timeit.default_timer() - start_time)"
   ]
  },
  {
   "cell_type": "code",
   "execution_count": null,
   "metadata": {},
   "outputs": [],
   "source": []
  }
 ],
 "metadata": {
  "kernelspec": {
   "display_name": "Python 3",
   "language": "python",
   "name": "python3"
  },
  "language_info": {
   "codemirror_mode": {
    "name": "ipython",
    "version": 3
   },
   "file_extension": ".py",
   "mimetype": "text/x-python",
   "name": "python",
   "nbconvert_exporter": "python",
   "pygments_lexer": "ipython3",
   "version": "3.6.2"
  }
 },
 "nbformat": 4,
 "nbformat_minor": 2
}
